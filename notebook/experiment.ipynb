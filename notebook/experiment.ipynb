{
 "cells": [
  {
   "cell_type": "code",
   "execution_count": 2,
   "metadata": {},
   "outputs": [],
   "source": [
    "import pandas as pd\n",
    "import matplotlib.pyplot as plt\n",
    "%matplotlib notebook\n",
    "%matplotlib inline\n",
    "pd.set_option('display.max_columns', None)\n",
    "pd.set_option('display.max_rows', None)"
   ]
  },
  {
   "cell_type": "code",
   "execution_count": 5,
   "metadata": {},
   "outputs": [],
   "source": [
    "data  = pd.read_excel(\"../predict_data_test.xlsx\",engine='openpyxl')"
   ]
  },
  {
   "cell_type": "code",
   "execution_count": 6,
   "metadata": {},
   "outputs": [
    {
     "data": {
      "text/plain": [
       "[('qty_slash_url', 'qty_slash_directory', 0.9987353867586225),\n",
       " ('qty_equal_url', 'qty_equal_params', 0.9733632454761673),\n",
       " ('qty_comma_url', 'qty_comma_file', 1.0),\n",
       " ('qty_equal_directory', 'qty_at_directory', 0.9999999999999986),\n",
       " ('qty_equal_directory', 'qty_and_directory', 0.9999999999999986),\n",
       " ('qty_at_directory', 'qty_and_directory', 1.0),\n",
       " ('qty_equal_params', 'qty_params', 0.9939871978690746)]"
      ]
     },
     "execution_count": 6,
     "metadata": {},
     "output_type": "execute_result"
    }
   ],
   "source": [
    "corr_data = data.corr()\n",
    "\n",
    "l = []\n",
    "\n",
    "\n",
    "for k1 in corr_data:\n",
    "    \n",
    "    for k2 in corr_data:\n",
    "        value = corr_data[k1][k2]\n",
    "        if k1 != k2:\n",
    "            if value > 0.97:\n",
    "                for i in l:\n",
    "                    if k1 == i[1] and k2 == i[0]:\n",
    "                        \n",
    "                        break\n",
    "                else:\n",
    "                   \n",
    "                    l.append((k1,k2,value))\n",
    " \n",
    "l"
   ]
  },
  {
   "cell_type": "code",
   "execution_count": 10,
   "metadata": {},
   "outputs": [
    {
     "name": "stdout",
     "output_type": "stream",
     "text": [
      "Index(['Unnamed: 0', 'qty_dot_url', 'qty_hyphen_url', 'qty_underline_url',\n",
      "       'qty_questionmark_url', 'qty_at_url', 'qty_and_url',\n",
      "       'qty_exclamation_url', 'qty_space_url', 'qty_tilde_url',\n",
      "       ...\n",
      "       'qty_nameservers', 'qty_mx_servers', 'ttl_hostname',\n",
      "       'tls_ssl_certificate', 'qty_redirects', 'url_google_index',\n",
      "       'domain_google_index', 'url_shortened', 'url', 'Labels'],\n",
      "      dtype='object', length=108)\n"
     ]
    }
   ],
   "source": [
    "filtered_data = data.copy()\n",
    "\n",
    "for i in l:\n",
    "    filtered_data.drop(labels=i[0],axis=1,inplace=True,errors='ignore') \n",
    "    \n",
    "print(filtered_data.columns) "
   ]
  },
  {
   "cell_type": "code",
   "execution_count": 11,
   "metadata": {},
   "outputs": [
    {
     "data": {
      "text/plain": [
       "0    215\n",
       "1    133\n",
       "Name: Labels, dtype: int64"
      ]
     },
     "execution_count": 11,
     "metadata": {},
     "output_type": "execute_result"
    }
   ],
   "source": [
    "filtered_data['Labels'].value_counts()"
   ]
  },
  {
   "cell_type": "code",
   "execution_count": 14,
   "metadata": {},
   "outputs": [
    {
     "name": "stdout",
     "output_type": "stream",
     "text": [
      "Requirement already satisfied: imbalanced-learn in d:\\fsds\\ds internship\\phising_project\\venv\\lib\\site-packages (0.9.0)\n",
      "Collecting imbalanced-learn\n",
      "  Using cached imbalanced_learn-0.9.1-py3-none-any.whl (199 kB)\n",
      "Requirement already satisfied: scipy>=1.3.2 in d:\\fsds\\ds internship\\phising_project\\venv\\lib\\site-packages (from imbalanced-learn) (1.7.3)\n",
      "Requirement already satisfied: joblib>=0.11 in d:\\fsds\\ds internship\\phising_project\\venv\\lib\\site-packages (from imbalanced-learn) (1.1.0)\n",
      "Requirement already satisfied: numpy>=1.14.6 in d:\\fsds\\ds internship\\phising_project\\venv\\lib\\site-packages (from imbalanced-learn) (1.21.6)\n",
      "Requirement already satisfied: scikit-learn>=1.0.1 in d:\\fsds\\ds internship\\phising_project\\venv\\lib\\site-packages (from imbalanced-learn) (1.0.2)\n",
      "Requirement already satisfied: threadpoolctl>=2.0.0 in d:\\fsds\\ds internship\\phising_project\\venv\\lib\\site-packages (from imbalanced-learn) (3.1.0)\n",
      "Note: you may need to restart the kernel to use updated packages.\n"
     ]
    },
    {
     "name": "stderr",
     "output_type": "stream",
     "text": [
      "WARNING: Retrying (Retry(total=4, connect=None, read=None, redirect=None, status=None)) after connection broken by 'ProtocolError('Connection aborted.', ConnectionResetError(10054, 'An existing connection was forcibly closed by the remote host', None, 10054, None))': /simple/imbalanced-learn/\n"
     ]
    }
   ],
   "source": [
    " pip install -U imbalanced-learn\n"
   ]
  },
  {
   "cell_type": "code",
   "execution_count": 15,
   "metadata": {},
   "outputs": [],
   "source": [
    "from imblearn.over_sampling import SMOTE"
   ]
  },
  {
   "cell_type": "code",
   "execution_count": 18,
   "metadata": {},
   "outputs": [],
   "source": [
    "X = filtered_data.drop(columns=[\"Labels\",\"url\"])\n",
    "y = filtered_data['Labels']\n",
    "X_resampled, y_resampled = SMOTE().fit_resample(X, y)"
   ]
  },
  {
   "cell_type": "code",
   "execution_count": 35,
   "metadata": {},
   "outputs": [],
   "source": [
    "from sklearn.preprocessing import PowerTransformer\n",
    "from sklearn.metrics import classification_report\n",
    "from sklearn.pipeline import make_pipeline\n",
    "\n",
    "from sklearn.model_selection import cross_val_score,cross_validate\n",
    "scoring = ['precision_macro', 'recall_macro']\n"
   ]
  },
  {
   "cell_type": "code",
   "execution_count": 36,
   "metadata": {},
   "outputs": [],
   "source": [
    "from sklearn.model_selection import train_test_split\n",
    "X_train, X_test, y_train, y_test = train_test_split(X_resampled, y_resampled, random_state=42)\n"
   ]
  },
  {
   "cell_type": "code",
   "execution_count": 37,
   "metadata": {},
   "outputs": [],
   "source": [
    "from sklearn.ensemble import RandomForestClassifier\n"
   ]
  },
  {
   "cell_type": "code",
   "execution_count": 39,
   "metadata": {},
   "outputs": [
    {
     "name": "stderr",
     "output_type": "stream",
     "text": [
      "d:\\FSDS\\DS internship\\phising_project\\venv\\lib\\site-packages\\sklearn\\preprocessing\\_data.py:3253: RuntimeWarning: divide by zero encountered in log\n",
      "  loglike = -n_samples / 2 * np.log(x_trans.var())\n"
     ]
    },
    {
     "name": "stdout",
     "output_type": "stream",
     "text": [
      "              precision    recall  f1-score   support\n",
      "\n",
      "           0       0.76      0.83      0.79        53\n",
      "           1       0.82      0.75      0.78        55\n",
      "\n",
      "    accuracy                           0.79       108\n",
      "   macro avg       0.79      0.79      0.79       108\n",
      "weighted avg       0.79      0.79      0.79       108\n",
      "\n"
     ]
    },
    {
     "name": "stderr",
     "output_type": "stream",
     "text": [
      "d:\\FSDS\\DS internship\\phising_project\\venv\\lib\\site-packages\\sklearn\\preprocessing\\_data.py:3253: RuntimeWarning: divide by zero encountered in log\n",
      "  loglike = -n_samples / 2 * np.log(x_trans.var())\n",
      "d:\\FSDS\\DS internship\\phising_project\\venv\\lib\\site-packages\\sklearn\\preprocessing\\_data.py:3253: RuntimeWarning: divide by zero encountered in log\n",
      "  loglike = -n_samples / 2 * np.log(x_trans.var())\n",
      "d:\\FSDS\\DS internship\\phising_project\\venv\\lib\\site-packages\\sklearn\\preprocessing\\_data.py:3253: RuntimeWarning: divide by zero encountered in log\n",
      "  loglike = -n_samples / 2 * np.log(x_trans.var())\n",
      "d:\\FSDS\\DS internship\\phising_project\\venv\\lib\\site-packages\\sklearn\\preprocessing\\_data.py:3253: RuntimeWarning: divide by zero encountered in log\n",
      "  loglike = -n_samples / 2 * np.log(x_trans.var())\n",
      "d:\\FSDS\\DS internship\\phising_project\\venv\\lib\\site-packages\\sklearn\\preprocessing\\_data.py:3253: RuntimeWarning: divide by zero encountered in log\n",
      "  loglike = -n_samples / 2 * np.log(x_trans.var())\n"
     ]
    },
    {
     "data": {
      "text/plain": [
       "{'fit_time': array([0.23174191, 0.22699213, 0.22656059, 0.21899939, 0.22500014]),\n",
       " 'score_time': array([0.01100063, 0.00999951, 0.01099944, 0.01000023, 0.00999975]),\n",
       " 'test_precision_macro': array([0.72885154, 0.82521008, 0.73830049, 0.87229437, 0.79646994]),\n",
       " 'test_recall_macro': array([0.72093023, 0.81395349, 0.70930233, 0.87209302, 0.79069767])}"
      ]
     },
     "execution_count": 39,
     "metadata": {},
     "output_type": "execute_result"
    }
   ],
   "source": [
    "clf = RandomForestClassifier(max_depth=2,n_estimators=200, random_state=0)\n",
    "pipeline = make_pipeline(PowerTransformer(), clf)\n",
    "\n",
    "pipeline.fit(X_train, y_train)\n",
    "\n",
    "y_pred = pipeline.predict(X_test)\n",
    "print(classification_report(y_test, y_pred))\n",
    "cross_validate(pipeline, X_resampled, y_resampled, scoring=scoring,cv = 5)"
   ]
  },
  {
   "cell_type": "code",
   "execution_count": 38,
   "metadata": {},
   "outputs": [
    {
     "name": "stderr",
     "output_type": "stream",
     "text": [
      "d:\\FSDS\\DS internship\\phising_project\\venv\\lib\\site-packages\\sklearn\\preprocessing\\_data.py:3253: RuntimeWarning: divide by zero encountered in log\n",
      "  loglike = -n_samples / 2 * np.log(x_trans.var())\n",
      "d:\\FSDS\\DS internship\\phising_project\\venv\\lib\\site-packages\\sklearn\\preprocessing\\_data.py:3253: RuntimeWarning: divide by zero encountered in log\n",
      "  loglike = -n_samples / 2 * np.log(x_trans.var())\n"
     ]
    },
    {
     "name": "stdout",
     "output_type": "stream",
     "text": [
      "              precision    recall  f1-score   support\n",
      "\n",
      "           0       0.84      0.77      0.80        53\n",
      "           1       0.80      0.85      0.82        55\n",
      "\n",
      "    accuracy                           0.81       108\n",
      "   macro avg       0.82      0.81      0.81       108\n",
      "weighted avg       0.82      0.81      0.81       108\n",
      "\n"
     ]
    },
    {
     "name": "stderr",
     "output_type": "stream",
     "text": [
      "d:\\FSDS\\DS internship\\phising_project\\venv\\lib\\site-packages\\sklearn\\preprocessing\\_data.py:3253: RuntimeWarning: divide by zero encountered in log\n",
      "  loglike = -n_samples / 2 * np.log(x_trans.var())\n",
      "d:\\FSDS\\DS internship\\phising_project\\venv\\lib\\site-packages\\sklearn\\preprocessing\\_data.py:3253: RuntimeWarning: divide by zero encountered in log\n",
      "  loglike = -n_samples / 2 * np.log(x_trans.var())\n",
      "d:\\FSDS\\DS internship\\phising_project\\venv\\lib\\site-packages\\sklearn\\preprocessing\\_data.py:3253: RuntimeWarning: divide by zero encountered in log\n",
      "  loglike = -n_samples / 2 * np.log(x_trans.var())\n",
      "d:\\FSDS\\DS internship\\phising_project\\venv\\lib\\site-packages\\sklearn\\preprocessing\\_data.py:3253: RuntimeWarning: divide by zero encountered in log\n",
      "  loglike = -n_samples / 2 * np.log(x_trans.var())\n"
     ]
    },
    {
     "data": {
      "text/plain": [
       "{'fit_time': array([0.13916421, 0.13200116, 0.12745404, 0.12995005, 0.12790728]),\n",
       " 'score_time': array([0.00499701, 0.00400376, 0.00304079, 0.00308681, 0.0039916 ]),\n",
       " 'test_precision_macro': array([0.79646994, 0.83190395, 0.81773399, 0.85054348, 0.85833333]),\n",
       " 'test_recall_macro': array([0.79069767, 0.81395349, 0.77906977, 0.84883721, 0.8255814 ])}"
      ]
     },
     "execution_count": 38,
     "metadata": {},
     "output_type": "execute_result"
    }
   ],
   "source": [
    "from sklearn.linear_model import LogisticRegression\n",
    "\n",
    "clf = LogisticRegression(random_state=0)\n",
    "pipeline = make_pipeline(PowerTransformer(), clf)\n",
    "pipeline.fit(X_train, y_train)\n",
    "\n",
    "y_pred = pipeline.predict(X_test)\n",
    "print(classification_report(y_test, y_pred))\n",
    "\n",
    "cross_validate(pipeline, X_resampled, y_resampled, scoring=scoring,cv = 5)"
   ]
  },
  {
   "cell_type": "code",
   "execution_count": 28,
   "metadata": {},
   "outputs": [
    {
     "name": "stdout",
     "output_type": "stream",
     "text": [
      "              precision    recall  f1-score   support\n",
      "\n",
      "           0       0.56      0.94      0.70        53\n",
      "           1       0.84      0.29      0.43        55\n",
      "\n",
      "    accuracy                           0.61       108\n",
      "   macro avg       0.70      0.62      0.57       108\n",
      "weighted avg       0.70      0.61      0.57       108\n",
      "\n"
     ]
    },
    {
     "name": "stderr",
     "output_type": "stream",
     "text": [
      "d:\\FSDS\\DS internship\\phising_project\\venv\\lib\\site-packages\\sklearn\\preprocessing\\_data.py:3253: RuntimeWarning: divide by zero encountered in log\n",
      "  loglike = -n_samples / 2 * np.log(x_trans.var())\n"
     ]
    }
   ],
   "source": [
    "from sklearn.naive_bayes import GaussianNB\n",
    "\n",
    "clf = GaussianNB()\n",
    "pipeline = make_pipeline(PowerTransformer(), clf)\n",
    "\n",
    "pipeline.fit(X_train, y_train)\n",
    "\n",
    "y_pred = pipeline.predict(X_test)\n",
    "print(classification_report(y_test, y_pred))"
   ]
  },
  {
   "cell_type": "code",
   "execution_count": 40,
   "metadata": {},
   "outputs": [
    {
     "name": "stderr",
     "output_type": "stream",
     "text": [
      "d:\\FSDS\\DS internship\\phising_project\\venv\\lib\\site-packages\\sklearn\\preprocessing\\_data.py:3253: RuntimeWarning: divide by zero encountered in log\n",
      "  loglike = -n_samples / 2 * np.log(x_trans.var())\n",
      "d:\\FSDS\\DS internship\\phising_project\\venv\\lib\\site-packages\\sklearn\\preprocessing\\_data.py:3253: RuntimeWarning: divide by zero encountered in log\n",
      "  loglike = -n_samples / 2 * np.log(x_trans.var())\n",
      "d:\\FSDS\\DS internship\\phising_project\\venv\\lib\\site-packages\\sklearn\\preprocessing\\_data.py:3253: RuntimeWarning: divide by zero encountered in log\n",
      "  loglike = -n_samples / 2 * np.log(x_trans.var())\n"
     ]
    },
    {
     "name": "stdout",
     "output_type": "stream",
     "text": [
      "              precision    recall  f1-score   support\n",
      "\n",
      "           0       0.73      0.68      0.71        53\n",
      "           1       0.71      0.76      0.74        55\n",
      "\n",
      "    accuracy                           0.72       108\n",
      "   macro avg       0.72      0.72      0.72       108\n",
      "weighted avg       0.72      0.72      0.72       108\n",
      "\n"
     ]
    },
    {
     "name": "stderr",
     "output_type": "stream",
     "text": [
      "d:\\FSDS\\DS internship\\phising_project\\venv\\lib\\site-packages\\sklearn\\preprocessing\\_data.py:3253: RuntimeWarning: divide by zero encountered in log\n",
      "  loglike = -n_samples / 2 * np.log(x_trans.var())\n",
      "d:\\FSDS\\DS internship\\phising_project\\venv\\lib\\site-packages\\sklearn\\preprocessing\\_data.py:3253: RuntimeWarning: divide by zero encountered in log\n",
      "  loglike = -n_samples / 2 * np.log(x_trans.var())\n",
      "d:\\FSDS\\DS internship\\phising_project\\venv\\lib\\site-packages\\sklearn\\preprocessing\\_data.py:3253: RuntimeWarning: divide by zero encountered in log\n",
      "  loglike = -n_samples / 2 * np.log(x_trans.var())\n"
     ]
    },
    {
     "data": {
      "text/plain": [
       "{'fit_time': array([0.11261606, 0.11362338, 0.11484647, 0.11264157, 0.12060285]),\n",
       " 'score_time': array([0.00400567, 0.00400019, 0.00300002, 0.00399828, 0.00400758]),\n",
       " 'test_precision_macro': array([0.73958944, 0.85361842, 0.77703081, 0.84015276, 0.82521008]),\n",
       " 'test_recall_macro': array([0.72093023, 0.84883721, 0.76744186, 0.8372093 , 0.81395349])}"
      ]
     },
     "execution_count": 40,
     "metadata": {},
     "output_type": "execute_result"
    }
   ],
   "source": [
    "from sklearn.tree import DecisionTreeClassifier\n",
    "clf = DecisionTreeClassifier(random_state=0)\n",
    "pipeline = make_pipeline(PowerTransformer(), clf)\n",
    "\n",
    "pipeline.fit(X_train, y_train)\n",
    "\n",
    "y_pred = pipeline.predict(X_test)\n",
    "print(classification_report(y_test, y_pred))\n",
    "\n",
    "cross_validate(pipeline, X_resampled, y_resampled, scoring=scoring,cv = 5)\n"
   ]
  },
  {
   "cell_type": "code",
   "execution_count": 41,
   "metadata": {},
   "outputs": [
    {
     "name": "stderr",
     "output_type": "stream",
     "text": [
      "d:\\FSDS\\DS internship\\phising_project\\venv\\lib\\site-packages\\sklearn\\preprocessing\\_data.py:3253: RuntimeWarning: divide by zero encountered in log\n",
      "  loglike = -n_samples / 2 * np.log(x_trans.var())\n",
      "d:\\FSDS\\DS internship\\phising_project\\venv\\lib\\site-packages\\sklearn\\preprocessing\\_data.py:3253: RuntimeWarning: divide by zero encountered in log\n",
      "  loglike = -n_samples / 2 * np.log(x_trans.var())\n"
     ]
    },
    {
     "name": "stdout",
     "output_type": "stream",
     "text": [
      "              precision    recall  f1-score   support\n",
      "\n",
      "           0       0.83      0.83      0.83        53\n",
      "           1       0.84      0.84      0.84        55\n",
      "\n",
      "    accuracy                           0.83       108\n",
      "   macro avg       0.83      0.83      0.83       108\n",
      "weighted avg       0.83      0.83      0.83       108\n",
      "\n"
     ]
    },
    {
     "name": "stderr",
     "output_type": "stream",
     "text": [
      "d:\\FSDS\\DS internship\\phising_project\\venv\\lib\\site-packages\\sklearn\\preprocessing\\_data.py:3253: RuntimeWarning: divide by zero encountered in log\n",
      "  loglike = -n_samples / 2 * np.log(x_trans.var())\n",
      "d:\\FSDS\\DS internship\\phising_project\\venv\\lib\\site-packages\\sklearn\\preprocessing\\_data.py:3253: RuntimeWarning: divide by zero encountered in log\n",
      "  loglike = -n_samples / 2 * np.log(x_trans.var())\n",
      "d:\\FSDS\\DS internship\\phising_project\\venv\\lib\\site-packages\\sklearn\\preprocessing\\_data.py:3253: RuntimeWarning: divide by zero encountered in log\n",
      "  loglike = -n_samples / 2 * np.log(x_trans.var())\n",
      "d:\\FSDS\\DS internship\\phising_project\\venv\\lib\\site-packages\\sklearn\\preprocessing\\_data.py:3253: RuntimeWarning: divide by zero encountered in log\n",
      "  loglike = -n_samples / 2 * np.log(x_trans.var())\n"
     ]
    },
    {
     "data": {
      "text/plain": [
       "{'fit_time': array([0.19988322, 0.20138121, 0.19993329, 0.20275569, 0.19640231]),\n",
       " 'score_time': array([0.00999951, 0.00903416, 0.00900173, 0.00932121, 0.00901127]),\n",
       " 'test_precision_macro': array([0.72885154, 0.78289474, 0.80731847, 0.92065217, 0.89090909]),\n",
       " 'test_recall_macro': array([0.72093023, 0.77906977, 0.79069767, 0.91860465, 0.86046512])}"
      ]
     },
     "execution_count": 41,
     "metadata": {},
     "output_type": "execute_result"
    }
   ],
   "source": [
    "from sklearn.ensemble import AdaBoostClassifier\n",
    "\n",
    "clf = AdaBoostClassifier(n_estimators=100, random_state=0)\n",
    "pipeline = make_pipeline(PowerTransformer(), clf)\n",
    "\n",
    "pipeline.fit(X_train, y_train)\n",
    "\n",
    "y_pred = pipeline.predict(X_test)\n",
    "print(classification_report(y_test, y_pred))\n",
    "\n",
    "cross_validate(pipeline, X_resampled, y_resampled, scoring=scoring,cv = 5)"
   ]
  },
  {
   "cell_type": "code",
   "execution_count": 42,
   "metadata": {},
   "outputs": [
    {
     "name": "stderr",
     "output_type": "stream",
     "text": [
      "d:\\FSDS\\DS internship\\phising_project\\venv\\lib\\site-packages\\sklearn\\preprocessing\\_data.py:3253: RuntimeWarning: divide by zero encountered in log\n",
      "  loglike = -n_samples / 2 * np.log(x_trans.var())\n",
      "d:\\FSDS\\DS internship\\phising_project\\venv\\lib\\site-packages\\sklearn\\preprocessing\\_data.py:3253: RuntimeWarning: divide by zero encountered in log\n",
      "  loglike = -n_samples / 2 * np.log(x_trans.var())\n"
     ]
    },
    {
     "name": "stdout",
     "output_type": "stream",
     "text": [
      "              precision    recall  f1-score   support\n",
      "\n",
      "           0       0.83      0.81      0.82        53\n",
      "           1       0.82      0.84      0.83        55\n",
      "\n",
      "    accuracy                           0.82       108\n",
      "   macro avg       0.82      0.82      0.82       108\n",
      "weighted avg       0.82      0.82      0.82       108\n",
      "\n"
     ]
    },
    {
     "name": "stderr",
     "output_type": "stream",
     "text": [
      "d:\\FSDS\\DS internship\\phising_project\\venv\\lib\\site-packages\\sklearn\\preprocessing\\_data.py:3253: RuntimeWarning: divide by zero encountered in log\n",
      "  loglike = -n_samples / 2 * np.log(x_trans.var())\n",
      "d:\\FSDS\\DS internship\\phising_project\\venv\\lib\\site-packages\\sklearn\\preprocessing\\_data.py:3253: RuntimeWarning: divide by zero encountered in log\n",
      "  loglike = -n_samples / 2 * np.log(x_trans.var())\n",
      "d:\\FSDS\\DS internship\\phising_project\\venv\\lib\\site-packages\\sklearn\\preprocessing\\_data.py:3253: RuntimeWarning: divide by zero encountered in log\n",
      "  loglike = -n_samples / 2 * np.log(x_trans.var())\n",
      "d:\\FSDS\\DS internship\\phising_project\\venv\\lib\\site-packages\\sklearn\\preprocessing\\_data.py:3253: RuntimeWarning: divide by zero encountered in log\n",
      "  loglike = -n_samples / 2 * np.log(x_trans.var())\n"
     ]
    },
    {
     "data": {
      "text/plain": [
       "{'fit_time': array([0.23431158, 0.23587823, 0.23009968, 0.236063  , 0.22737336]),\n",
       " 'score_time': array([0.00800109, 0.00699949, 0.00900006, 0.00799942, 0.00769377]),\n",
       " 'test_precision_macro': array([0.84015276, 0.84902597, 0.85648942, 0.95447154, 0.92156863]),\n",
       " 'test_recall_macro': array([0.8372093 , 0.84883721, 0.8372093 , 0.95348837, 0.90697674])}"
      ]
     },
     "execution_count": 42,
     "metadata": {},
     "output_type": "execute_result"
    }
   ],
   "source": [
    "from xgboost import XGBClassifier\n",
    "clf = XGBClassifier()\n",
    "pipeline = make_pipeline(PowerTransformer(), clf)\n",
    "\n",
    "pipeline.fit(X_train, y_train)\n",
    "\n",
    "y_pred = pipeline.predict(X_test)\n",
    "print(classification_report(y_test, y_pred))\n",
    "cross_validate(pipeline, X_resampled, y_resampled, scoring=scoring,cv = 5)"
   ]
  },
  {
   "cell_type": "code",
   "execution_count": null,
   "metadata": {},
   "outputs": [],
   "source": []
  }
 ],
 "metadata": {
  "kernelspec": {
   "display_name": "Python 3.7.0 (conda)",
   "language": "python",
   "name": "python3"
  },
  "language_info": {
   "codemirror_mode": {
    "name": "ipython",
    "version": 3
   },
   "file_extension": ".py",
   "mimetype": "text/x-python",
   "name": "python",
   "nbconvert_exporter": "python",
   "pygments_lexer": "ipython3",
   "version": "3.7.0"
  },
  "orig_nbformat": 4,
  "vscode": {
   "interpreter": {
    "hash": "ba38cd44507e0fa7c260a096c410711ca0aa0c695fb1f7bf1ca24a0e7548cfb4"
   }
  }
 },
 "nbformat": 4,
 "nbformat_minor": 2
}
